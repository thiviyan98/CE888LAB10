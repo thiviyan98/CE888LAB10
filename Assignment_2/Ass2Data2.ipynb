{
  "nbformat": 4,
  "nbformat_minor": 0,
  "metadata": {
    "colab": {
      "name": "Ass2Data2.ipynb",
      "provenance": [],
      "collapsed_sections": [],
      "authorship_tag": "ABX9TyPCE/aywEIiSzXVSMhBl2UU",
      "include_colab_link": true
    },
    "kernelspec": {
      "name": "python3",
      "display_name": "Python 3"
    },
    "accelerator": "GPU"
  },
  "cells": [
    {
      "cell_type": "markdown",
      "metadata": {
        "id": "view-in-github",
        "colab_type": "text"
      },
      "source": [
        "<a href=\"https://colab.research.google.com/github/thiviyan98/CE888LAB10/blob/master/Assignment_2/Ass2Data2.ipynb\" target=\"_parent\"><img src=\"https://colab.research.google.com/assets/colab-badge.svg\" alt=\"Open In Colab\"/></a>"
      ]
    },
    {
      "cell_type": "code",
      "metadata": {
        "id": "W_8v8Cjxkq5f",
        "colab_type": "code",
        "outputId": "e20b6b2e-d01e-4a0c-a04b-9aea3d5dab7c",
        "colab": {
          "base_uri": "https://localhost:8080/",
          "height": 51
        }
      },
      "source": [
        "import seaborn as sns\n",
        "import numpy as np\n",
        "import pandas as pd\n",
        "import matplotlib.pyplot as plt\n",
        "from sklearn.preprocessing import LabelEncoder\n",
        "from sklearn import preprocessing\n",
        "from sklearn.model_selection import train_test_split\n",
        "\n",
        "from sklearn.preprocessing import StandardScaler\n",
        "from sklearn.tree import DecisionTreeClassifier, plot_tree\n",
        "from sklearn.ensemble import RandomForestClassifier\n",
        "from sklearn.model_selection import cross_val_score , StratifiedKFold\n",
        "from sklearn.ensemble import RandomForestClassifier\n",
        "from sklearn.metrics import make_scorer, accuracy_score, precision_score, recall_score, f1_score"
      ],
      "execution_count": 1,
      "outputs": [
        {
          "output_type": "stream",
          "text": [
            "/usr/local/lib/python3.6/dist-packages/statsmodels/tools/_testing.py:19: FutureWarning: pandas.util.testing is deprecated. Use the functions in the public API at pandas.testing instead.\n",
            "  import pandas.util.testing as tm\n"
          ],
          "name": "stderr"
        }
      ]
    },
    {
      "cell_type": "markdown",
      "metadata": {
        "id": "8kiIFOQnhpXE",
        "colab_type": "text"
      },
      "source": [
        "##1.Import and Reading Dataset"
      ]
    },
    {
      "cell_type": "code",
      "metadata": {
        "id": "dN-Ianerhbu2",
        "colab_type": "code",
        "colab": {}
      },
      "source": [
        "df = pd.read_csv('https://raw.githubusercontent.com/thiviyan98/ThiviyanNanthakumarCE888/master/Assignment1/Data/noshowappointments/KaggleV2-May-2016.csv', sep=',', quotechar='\"')"
      ],
      "execution_count": 0,
      "outputs": []
    },
    {
      "cell_type": "markdown",
      "metadata": {
        "id": "PeCSp7_Uh5wF",
        "colab_type": "text"
      },
      "source": [
        "### Printing and getting info for Africa Dataset"
      ]
    },
    {
      "cell_type": "code",
      "metadata": {
        "id": "Fic6Eelth6ic",
        "colab_type": "code",
        "outputId": "a8d6cbca-0469-427d-8496-c7b5582b8567",
        "colab": {
          "base_uri": "https://localhost:8080/",
          "height": 419
        }
      },
      "source": [
        "df"
      ],
      "execution_count": 3,
      "outputs": [
        {
          "output_type": "execute_result",
          "data": {
            "text/html": [
              "<div>\n",
              "<style scoped>\n",
              "    .dataframe tbody tr th:only-of-type {\n",
              "        vertical-align: middle;\n",
              "    }\n",
              "\n",
              "    .dataframe tbody tr th {\n",
              "        vertical-align: top;\n",
              "    }\n",
              "\n",
              "    .dataframe thead th {\n",
              "        text-align: right;\n",
              "    }\n",
              "</style>\n",
              "<table border=\"1\" class=\"dataframe\">\n",
              "  <thead>\n",
              "    <tr style=\"text-align: right;\">\n",
              "      <th></th>\n",
              "      <th>PatientId</th>\n",
              "      <th>AppointmentID</th>\n",
              "      <th>Gender</th>\n",
              "      <th>ScheduledDay</th>\n",
              "      <th>AppointmentDay</th>\n",
              "      <th>Age</th>\n",
              "      <th>Neighbourhood</th>\n",
              "      <th>Scholarship</th>\n",
              "      <th>Hipertension</th>\n",
              "      <th>Diabetes</th>\n",
              "      <th>Alcoholism</th>\n",
              "      <th>Handcap</th>\n",
              "      <th>SMS_received</th>\n",
              "      <th>No-show</th>\n",
              "    </tr>\n",
              "  </thead>\n",
              "  <tbody>\n",
              "    <tr>\n",
              "      <th>0</th>\n",
              "      <td>2.987250e+13</td>\n",
              "      <td>5642903</td>\n",
              "      <td>F</td>\n",
              "      <td>2016-04-29T18:38:08Z</td>\n",
              "      <td>2016-04-29T00:00:00Z</td>\n",
              "      <td>62</td>\n",
              "      <td>JARDIM DA PENHA</td>\n",
              "      <td>0</td>\n",
              "      <td>1</td>\n",
              "      <td>0</td>\n",
              "      <td>0</td>\n",
              "      <td>0</td>\n",
              "      <td>0</td>\n",
              "      <td>No</td>\n",
              "    </tr>\n",
              "    <tr>\n",
              "      <th>1</th>\n",
              "      <td>5.589978e+14</td>\n",
              "      <td>5642503</td>\n",
              "      <td>M</td>\n",
              "      <td>2016-04-29T16:08:27Z</td>\n",
              "      <td>2016-04-29T00:00:00Z</td>\n",
              "      <td>56</td>\n",
              "      <td>JARDIM DA PENHA</td>\n",
              "      <td>0</td>\n",
              "      <td>0</td>\n",
              "      <td>0</td>\n",
              "      <td>0</td>\n",
              "      <td>0</td>\n",
              "      <td>0</td>\n",
              "      <td>No</td>\n",
              "    </tr>\n",
              "    <tr>\n",
              "      <th>2</th>\n",
              "      <td>4.262962e+12</td>\n",
              "      <td>5642549</td>\n",
              "      <td>F</td>\n",
              "      <td>2016-04-29T16:19:04Z</td>\n",
              "      <td>2016-04-29T00:00:00Z</td>\n",
              "      <td>62</td>\n",
              "      <td>MATA DA PRAIA</td>\n",
              "      <td>0</td>\n",
              "      <td>0</td>\n",
              "      <td>0</td>\n",
              "      <td>0</td>\n",
              "      <td>0</td>\n",
              "      <td>0</td>\n",
              "      <td>No</td>\n",
              "    </tr>\n",
              "    <tr>\n",
              "      <th>3</th>\n",
              "      <td>8.679512e+11</td>\n",
              "      <td>5642828</td>\n",
              "      <td>F</td>\n",
              "      <td>2016-04-29T17:29:31Z</td>\n",
              "      <td>2016-04-29T00:00:00Z</td>\n",
              "      <td>8</td>\n",
              "      <td>PONTAL DE CAMBURI</td>\n",
              "      <td>0</td>\n",
              "      <td>0</td>\n",
              "      <td>0</td>\n",
              "      <td>0</td>\n",
              "      <td>0</td>\n",
              "      <td>0</td>\n",
              "      <td>No</td>\n",
              "    </tr>\n",
              "    <tr>\n",
              "      <th>4</th>\n",
              "      <td>8.841186e+12</td>\n",
              "      <td>5642494</td>\n",
              "      <td>F</td>\n",
              "      <td>2016-04-29T16:07:23Z</td>\n",
              "      <td>2016-04-29T00:00:00Z</td>\n",
              "      <td>56</td>\n",
              "      <td>JARDIM DA PENHA</td>\n",
              "      <td>0</td>\n",
              "      <td>1</td>\n",
              "      <td>1</td>\n",
              "      <td>0</td>\n",
              "      <td>0</td>\n",
              "      <td>0</td>\n",
              "      <td>No</td>\n",
              "    </tr>\n",
              "    <tr>\n",
              "      <th>...</th>\n",
              "      <td>...</td>\n",
              "      <td>...</td>\n",
              "      <td>...</td>\n",
              "      <td>...</td>\n",
              "      <td>...</td>\n",
              "      <td>...</td>\n",
              "      <td>...</td>\n",
              "      <td>...</td>\n",
              "      <td>...</td>\n",
              "      <td>...</td>\n",
              "      <td>...</td>\n",
              "      <td>...</td>\n",
              "      <td>...</td>\n",
              "      <td>...</td>\n",
              "    </tr>\n",
              "    <tr>\n",
              "      <th>110522</th>\n",
              "      <td>2.572134e+12</td>\n",
              "      <td>5651768</td>\n",
              "      <td>F</td>\n",
              "      <td>2016-05-03T09:15:35Z</td>\n",
              "      <td>2016-06-07T00:00:00Z</td>\n",
              "      <td>56</td>\n",
              "      <td>MARIA ORTIZ</td>\n",
              "      <td>0</td>\n",
              "      <td>0</td>\n",
              "      <td>0</td>\n",
              "      <td>0</td>\n",
              "      <td>0</td>\n",
              "      <td>1</td>\n",
              "      <td>No</td>\n",
              "    </tr>\n",
              "    <tr>\n",
              "      <th>110523</th>\n",
              "      <td>3.596266e+12</td>\n",
              "      <td>5650093</td>\n",
              "      <td>F</td>\n",
              "      <td>2016-05-03T07:27:33Z</td>\n",
              "      <td>2016-06-07T00:00:00Z</td>\n",
              "      <td>51</td>\n",
              "      <td>MARIA ORTIZ</td>\n",
              "      <td>0</td>\n",
              "      <td>0</td>\n",
              "      <td>0</td>\n",
              "      <td>0</td>\n",
              "      <td>0</td>\n",
              "      <td>1</td>\n",
              "      <td>No</td>\n",
              "    </tr>\n",
              "    <tr>\n",
              "      <th>110524</th>\n",
              "      <td>1.557663e+13</td>\n",
              "      <td>5630692</td>\n",
              "      <td>F</td>\n",
              "      <td>2016-04-27T16:03:52Z</td>\n",
              "      <td>2016-06-07T00:00:00Z</td>\n",
              "      <td>21</td>\n",
              "      <td>MARIA ORTIZ</td>\n",
              "      <td>0</td>\n",
              "      <td>0</td>\n",
              "      <td>0</td>\n",
              "      <td>0</td>\n",
              "      <td>0</td>\n",
              "      <td>1</td>\n",
              "      <td>No</td>\n",
              "    </tr>\n",
              "    <tr>\n",
              "      <th>110525</th>\n",
              "      <td>9.213493e+13</td>\n",
              "      <td>5630323</td>\n",
              "      <td>F</td>\n",
              "      <td>2016-04-27T15:09:23Z</td>\n",
              "      <td>2016-06-07T00:00:00Z</td>\n",
              "      <td>38</td>\n",
              "      <td>MARIA ORTIZ</td>\n",
              "      <td>0</td>\n",
              "      <td>0</td>\n",
              "      <td>0</td>\n",
              "      <td>0</td>\n",
              "      <td>0</td>\n",
              "      <td>1</td>\n",
              "      <td>No</td>\n",
              "    </tr>\n",
              "    <tr>\n",
              "      <th>110526</th>\n",
              "      <td>3.775115e+14</td>\n",
              "      <td>5629448</td>\n",
              "      <td>F</td>\n",
              "      <td>2016-04-27T13:30:56Z</td>\n",
              "      <td>2016-06-07T00:00:00Z</td>\n",
              "      <td>54</td>\n",
              "      <td>MARIA ORTIZ</td>\n",
              "      <td>0</td>\n",
              "      <td>0</td>\n",
              "      <td>0</td>\n",
              "      <td>0</td>\n",
              "      <td>0</td>\n",
              "      <td>1</td>\n",
              "      <td>No</td>\n",
              "    </tr>\n",
              "  </tbody>\n",
              "</table>\n",
              "<p>110527 rows × 14 columns</p>\n",
              "</div>"
            ],
            "text/plain": [
              "           PatientId  AppointmentID Gender  ... Handcap SMS_received  No-show\n",
              "0       2.987250e+13        5642903      F  ...       0            0       No\n",
              "1       5.589978e+14        5642503      M  ...       0            0       No\n",
              "2       4.262962e+12        5642549      F  ...       0            0       No\n",
              "3       8.679512e+11        5642828      F  ...       0            0       No\n",
              "4       8.841186e+12        5642494      F  ...       0            0       No\n",
              "...              ...            ...    ...  ...     ...          ...      ...\n",
              "110522  2.572134e+12        5651768      F  ...       0            1       No\n",
              "110523  3.596266e+12        5650093      F  ...       0            1       No\n",
              "110524  1.557663e+13        5630692      F  ...       0            1       No\n",
              "110525  9.213493e+13        5630323      F  ...       0            1       No\n",
              "110526  3.775115e+14        5629448      F  ...       0            1       No\n",
              "\n",
              "[110527 rows x 14 columns]"
            ]
          },
          "metadata": {
            "tags": []
          },
          "execution_count": 3
        }
      ]
    },
    {
      "cell_type": "code",
      "metadata": {
        "id": "Tngi6nLriE6E",
        "colab_type": "code",
        "outputId": "e5166bbe-6cf8-4206-c4ad-8cc7ad10aad5",
        "colab": {
          "base_uri": "https://localhost:8080/",
          "height": 374
        }
      },
      "source": [
        "df.info()\n",
        "#checked if there is missing values from the coloumn\n",
        "#110527 entries lot of data, 14 variable coloumns (features)"
      ],
      "execution_count": 4,
      "outputs": [
        {
          "output_type": "stream",
          "text": [
            "<class 'pandas.core.frame.DataFrame'>\n",
            "RangeIndex: 110527 entries, 0 to 110526\n",
            "Data columns (total 14 columns):\n",
            " #   Column          Non-Null Count   Dtype  \n",
            "---  ------          --------------   -----  \n",
            " 0   PatientId       110527 non-null  float64\n",
            " 1   AppointmentID   110527 non-null  int64  \n",
            " 2   Gender          110527 non-null  object \n",
            " 3   ScheduledDay    110527 non-null  object \n",
            " 4   AppointmentDay  110527 non-null  object \n",
            " 5   Age             110527 non-null  int64  \n",
            " 6   Neighbourhood   110527 non-null  object \n",
            " 7   Scholarship     110527 non-null  int64  \n",
            " 8   Hipertension    110527 non-null  int64  \n",
            " 9   Diabetes        110527 non-null  int64  \n",
            " 10  Alcoholism      110527 non-null  int64  \n",
            " 11  Handcap         110527 non-null  int64  \n",
            " 12  SMS_received    110527 non-null  int64  \n",
            " 13  No-show         110527 non-null  object \n",
            "dtypes: float64(1), int64(8), object(5)\n",
            "memory usage: 11.8+ MB\n"
          ],
          "name": "stdout"
        }
      ]
    },
    {
      "cell_type": "code",
      "metadata": {
        "id": "s9RJVFzPiSDE",
        "colab_type": "code",
        "outputId": "e25c58a9-98e5-4996-d0d9-9f864cc1be71",
        "colab": {
          "base_uri": "https://localhost:8080/",
          "height": 34
        }
      },
      "source": [
        "#Double check if there is missing values\n",
        "df.isnull().any().sum()>0"
      ],
      "execution_count": 5,
      "outputs": [
        {
          "output_type": "execute_result",
          "data": {
            "text/plain": [
              "False"
            ]
          },
          "metadata": {
            "tags": []
          },
          "execution_count": 5
        }
      ]
    },
    {
      "cell_type": "markdown",
      "metadata": {
        "id": "1nYYUZBIiaq7",
        "colab_type": "text"
      },
      "source": [
        "####Cleaning up the data"
      ]
    },
    {
      "cell_type": "code",
      "metadata": {
        "id": "c2fUBuwciVR8",
        "colab_type": "code",
        "colab": {}
      },
      "source": [
        "df.drop(df[df['Age']<0].index,inplace=True) #dropping wrong data any age below 0"
      ],
      "execution_count": 0,
      "outputs": []
    },
    {
      "cell_type": "code",
      "metadata": {
        "id": "EMlYjYjXimz8",
        "colab_type": "code",
        "outputId": "cd48abee-00d3-49f8-82e0-7c66906ae36c",
        "colab": {
          "base_uri": "https://localhost:8080/",
          "height": 119
        }
      },
      "source": [
        "#deleted some rows on the handicap section as the person who set it said its only true or false so the values that are gonna be kept is 0 or 1 however, the dataset has it from 0 to 4. in this case i dropped them.\n",
        "df.Handcap.value_counts()"
      ],
      "execution_count": 7,
      "outputs": [
        {
          "output_type": "execute_result",
          "data": {
            "text/plain": [
              "0    108285\n",
              "1      2042\n",
              "2       183\n",
              "3        13\n",
              "4         3\n",
              "Name: Handcap, dtype: int64"
            ]
          },
          "metadata": {
            "tags": []
          },
          "execution_count": 7
        }
      ]
    },
    {
      "cell_type": "code",
      "metadata": {
        "id": "ACkR6ofSiuuD",
        "colab_type": "code",
        "colab": {}
      },
      "source": [
        "df.drop(df[df.Handcap > 1].index, inplace=True)"
      ],
      "execution_count": 0,
      "outputs": []
    },
    {
      "cell_type": "code",
      "metadata": {
        "id": "wzbi6yAti1er",
        "colab_type": "code",
        "colab": {}
      },
      "source": [
        "df[[\"Gender\"]]=df[[\"Gender\"]].apply(LabelEncoder().fit_transform) # 0 is female 1 is male\n",
        "#dropped these as they were type str and was not necessary"
      ],
      "execution_count": 0,
      "outputs": []
    },
    {
      "cell_type": "code",
      "metadata": {
        "id": "vKylS-BplSbs",
        "colab_type": "code",
        "colab": {}
      },
      "source": [
        "df[[\"Neighbourhood\"]]=df[[\"Neighbourhood\"]].apply(LabelEncoder().fit_transform) # neighbourhood has been changed to int to make it easy to analyse\n",
        "#dropped these as they were type str and was not necessary"
      ],
      "execution_count": 0,
      "outputs": []
    },
    {
      "cell_type": "code",
      "metadata": {
        "id": "enmEJbTrjB8T",
        "colab_type": "code",
        "colab": {}
      },
      "source": [
        "#dropping these features as they can not be used as they are formatted wrong.\n",
        "df.drop(columns=['ScheduledDay','AppointmentDay'],inplace=True)"
      ],
      "execution_count": 0,
      "outputs": []
    },
    {
      "cell_type": "code",
      "metadata": {
        "id": "sC8G_IAri72M",
        "colab_type": "code",
        "outputId": "4167bbd5-f174-4306-cf51-6c425d9a1321",
        "colab": {
          "base_uri": "https://localhost:8080/",
          "height": 340
        }
      },
      "source": [
        "df.info()"
      ],
      "execution_count": 12,
      "outputs": [
        {
          "output_type": "stream",
          "text": [
            "<class 'pandas.core.frame.DataFrame'>\n",
            "Int64Index: 110327 entries, 0 to 110526\n",
            "Data columns (total 12 columns):\n",
            " #   Column         Non-Null Count   Dtype  \n",
            "---  ------         --------------   -----  \n",
            " 0   PatientId      110327 non-null  float64\n",
            " 1   AppointmentID  110327 non-null  int64  \n",
            " 2   Gender         110327 non-null  int64  \n",
            " 3   Age            110327 non-null  int64  \n",
            " 4   Neighbourhood  110327 non-null  int64  \n",
            " 5   Scholarship    110327 non-null  int64  \n",
            " 6   Hipertension   110327 non-null  int64  \n",
            " 7   Diabetes       110327 non-null  int64  \n",
            " 8   Alcoholism     110327 non-null  int64  \n",
            " 9   Handcap        110327 non-null  int64  \n",
            " 10  SMS_received   110327 non-null  int64  \n",
            " 11  No-show        110327 non-null  object \n",
            "dtypes: float64(1), int64(10), object(1)\n",
            "memory usage: 10.9+ MB\n"
          ],
          "name": "stdout"
        }
      ]
    },
    {
      "cell_type": "code",
      "metadata": {
        "id": "ok4YWN2ajQv7",
        "colab_type": "code",
        "outputId": "eb448317-2639-4dc9-84ef-411050dd0bae",
        "colab": {
          "base_uri": "https://localhost:8080/",
          "height": 297
        }
      },
      "source": [
        "df.describe() ## shows eerything is cleaned up"
      ],
      "execution_count": 13,
      "outputs": [
        {
          "output_type": "execute_result",
          "data": {
            "text/html": [
              "<div>\n",
              "<style scoped>\n",
              "    .dataframe tbody tr th:only-of-type {\n",
              "        vertical-align: middle;\n",
              "    }\n",
              "\n",
              "    .dataframe tbody tr th {\n",
              "        vertical-align: top;\n",
              "    }\n",
              "\n",
              "    .dataframe thead th {\n",
              "        text-align: right;\n",
              "    }\n",
              "</style>\n",
              "<table border=\"1\" class=\"dataframe\">\n",
              "  <thead>\n",
              "    <tr style=\"text-align: right;\">\n",
              "      <th></th>\n",
              "      <th>PatientId</th>\n",
              "      <th>AppointmentID</th>\n",
              "      <th>Gender</th>\n",
              "      <th>Age</th>\n",
              "      <th>Neighbourhood</th>\n",
              "      <th>Scholarship</th>\n",
              "      <th>Hipertension</th>\n",
              "      <th>Diabetes</th>\n",
              "      <th>Alcoholism</th>\n",
              "      <th>Handcap</th>\n",
              "      <th>SMS_received</th>\n",
              "    </tr>\n",
              "  </thead>\n",
              "  <tbody>\n",
              "    <tr>\n",
              "      <th>count</th>\n",
              "      <td>1.103270e+05</td>\n",
              "      <td>1.103270e+05</td>\n",
              "      <td>110327.000000</td>\n",
              "      <td>110327.000000</td>\n",
              "      <td>110327.000000</td>\n",
              "      <td>110327.000000</td>\n",
              "      <td>110327.000000</td>\n",
              "      <td>110327.000000</td>\n",
              "      <td>110327.000000</td>\n",
              "      <td>110327.000000</td>\n",
              "      <td>110327.000000</td>\n",
              "    </tr>\n",
              "    <tr>\n",
              "      <th>mean</th>\n",
              "      <td>1.475245e+14</td>\n",
              "      <td>5.675298e+06</td>\n",
              "      <td>0.349842</td>\n",
              "      <td>37.070753</td>\n",
              "      <td>41.726866</td>\n",
              "      <td>0.098281</td>\n",
              "      <td>0.196833</td>\n",
              "      <td>0.071605</td>\n",
              "      <td>0.030382</td>\n",
              "      <td>0.018509</td>\n",
              "      <td>0.321182</td>\n",
              "    </tr>\n",
              "    <tr>\n",
              "      <th>std</th>\n",
              "      <td>2.561388e+14</td>\n",
              "      <td>7.129883e+04</td>\n",
              "      <td>0.476922</td>\n",
              "      <td>23.098052</td>\n",
              "      <td>22.356232</td>\n",
              "      <td>0.297695</td>\n",
              "      <td>0.397607</td>\n",
              "      <td>0.257834</td>\n",
              "      <td>0.171638</td>\n",
              "      <td>0.134782</td>\n",
              "      <td>0.466932</td>\n",
              "    </tr>\n",
              "    <tr>\n",
              "      <th>min</th>\n",
              "      <td>3.921784e+04</td>\n",
              "      <td>5.030230e+06</td>\n",
              "      <td>0.000000</td>\n",
              "      <td>0.000000</td>\n",
              "      <td>0.000000</td>\n",
              "      <td>0.000000</td>\n",
              "      <td>0.000000</td>\n",
              "      <td>0.000000</td>\n",
              "      <td>0.000000</td>\n",
              "      <td>0.000000</td>\n",
              "      <td>0.000000</td>\n",
              "    </tr>\n",
              "    <tr>\n",
              "      <th>25%</th>\n",
              "      <td>4.174584e+12</td>\n",
              "      <td>5.640278e+06</td>\n",
              "      <td>0.000000</td>\n",
              "      <td>18.000000</td>\n",
              "      <td>26.000000</td>\n",
              "      <td>0.000000</td>\n",
              "      <td>0.000000</td>\n",
              "      <td>0.000000</td>\n",
              "      <td>0.000000</td>\n",
              "      <td>0.000000</td>\n",
              "      <td>0.000000</td>\n",
              "    </tr>\n",
              "    <tr>\n",
              "      <th>50%</th>\n",
              "      <td>3.175389e+13</td>\n",
              "      <td>5.680567e+06</td>\n",
              "      <td>0.000000</td>\n",
              "      <td>37.000000</td>\n",
              "      <td>40.000000</td>\n",
              "      <td>0.000000</td>\n",
              "      <td>0.000000</td>\n",
              "      <td>0.000000</td>\n",
              "      <td>0.000000</td>\n",
              "      <td>0.000000</td>\n",
              "      <td>0.000000</td>\n",
              "    </tr>\n",
              "    <tr>\n",
              "      <th>75%</th>\n",
              "      <td>9.439381e+13</td>\n",
              "      <td>5.725508e+06</td>\n",
              "      <td>1.000000</td>\n",
              "      <td>55.000000</td>\n",
              "      <td>60.000000</td>\n",
              "      <td>0.000000</td>\n",
              "      <td>0.000000</td>\n",
              "      <td>0.000000</td>\n",
              "      <td>0.000000</td>\n",
              "      <td>0.000000</td>\n",
              "      <td>1.000000</td>\n",
              "    </tr>\n",
              "    <tr>\n",
              "      <th>max</th>\n",
              "      <td>9.999816e+14</td>\n",
              "      <td>5.790484e+06</td>\n",
              "      <td>1.000000</td>\n",
              "      <td>115.000000</td>\n",
              "      <td>80.000000</td>\n",
              "      <td>1.000000</td>\n",
              "      <td>1.000000</td>\n",
              "      <td>1.000000</td>\n",
              "      <td>1.000000</td>\n",
              "      <td>1.000000</td>\n",
              "      <td>1.000000</td>\n",
              "    </tr>\n",
              "  </tbody>\n",
              "</table>\n",
              "</div>"
            ],
            "text/plain": [
              "          PatientId  AppointmentID  ...        Handcap   SMS_received\n",
              "count  1.103270e+05   1.103270e+05  ...  110327.000000  110327.000000\n",
              "mean   1.475245e+14   5.675298e+06  ...       0.018509       0.321182\n",
              "std    2.561388e+14   7.129883e+04  ...       0.134782       0.466932\n",
              "min    3.921784e+04   5.030230e+06  ...       0.000000       0.000000\n",
              "25%    4.174584e+12   5.640278e+06  ...       0.000000       0.000000\n",
              "50%    3.175389e+13   5.680567e+06  ...       0.000000       0.000000\n",
              "75%    9.439381e+13   5.725508e+06  ...       0.000000       1.000000\n",
              "max    9.999816e+14   5.790484e+06  ...       1.000000       1.000000\n",
              "\n",
              "[8 rows x 11 columns]"
            ]
          },
          "metadata": {
            "tags": []
          },
          "execution_count": 13
        }
      ]
    },
    {
      "cell_type": "markdown",
      "metadata": {
        "id": "hCcn_3najeki",
        "colab_type": "text"
      },
      "source": [
        "#### Changing the Target Class to Binary Representation"
      ]
    },
    {
      "cell_type": "code",
      "metadata": {
        "id": "Hggp6oHljddD",
        "colab_type": "code",
        "outputId": "22b884d5-b77d-4fdf-a656-d1d982108032",
        "colab": {
          "base_uri": "https://localhost:8080/",
          "height": 68
        }
      },
      "source": [
        "df['No-show'].value_counts()"
      ],
      "execution_count": 14,
      "outputs": [
        {
          "output_type": "execute_result",
          "data": {
            "text/plain": [
              "No     88049\n",
              "Yes    22278\n",
              "Name: No-show, dtype: int64"
            ]
          },
          "metadata": {
            "tags": []
          },
          "execution_count": 14
        }
      ]
    },
    {
      "cell_type": "code",
      "metadata": {
        "id": "iFttFaLOjjQs",
        "colab_type": "code",
        "outputId": "ac8e247c-44d3-48f4-cc86-782711655f89",
        "colab": {
          "base_uri": "https://localhost:8080/",
          "height": 68
        }
      },
      "source": [
        "# binary classification 1 is No Show and 0 is Show\n",
        "df['No-show']=[1 if b== 'Yes' else 0 for b in df['No-show']]\n",
        "df['No-show'].value_counts()"
      ],
      "execution_count": 15,
      "outputs": [
        {
          "output_type": "execute_result",
          "data": {
            "text/plain": [
              "0    88049\n",
              "1    22278\n",
              "Name: No-show, dtype: int64"
            ]
          },
          "metadata": {
            "tags": []
          },
          "execution_count": 15
        }
      ]
    },
    {
      "cell_type": "code",
      "metadata": {
        "id": "L6xSR6-jjrFD",
        "colab_type": "code",
        "outputId": "abfe182a-1e8e-425a-eadb-59b6416fc996",
        "colab": {
          "base_uri": "https://localhost:8080/",
          "height": 255
        }
      },
      "source": [
        "print(df)"
      ],
      "execution_count": 16,
      "outputs": [
        {
          "output_type": "stream",
          "text": [
            "           PatientId  AppointmentID  Gender  ...  Handcap  SMS_received  No-show\n",
            "0       2.987250e+13        5642903       0  ...        0             0        0\n",
            "1       5.589978e+14        5642503       1  ...        0             0        0\n",
            "2       4.262962e+12        5642549       0  ...        0             0        0\n",
            "3       8.679512e+11        5642828       0  ...        0             0        0\n",
            "4       8.841186e+12        5642494       0  ...        0             0        0\n",
            "...              ...            ...     ...  ...      ...           ...      ...\n",
            "110522  2.572134e+12        5651768       0  ...        0             1        0\n",
            "110523  3.596266e+12        5650093       0  ...        0             1        0\n",
            "110524  1.557663e+13        5630692       0  ...        0             1        0\n",
            "110525  9.213493e+13        5630323       0  ...        0             1        0\n",
            "110526  3.775115e+14        5629448       0  ...        0             1        0\n",
            "\n",
            "[110327 rows x 12 columns]\n"
          ],
          "name": "stdout"
        }
      ]
    },
    {
      "cell_type": "markdown",
      "metadata": {
        "id": "T_nq8-wWnZdj",
        "colab_type": "text"
      },
      "source": [
        "Preprocessing is not necessary for this dataset"
      ]
    },
    {
      "cell_type": "markdown",
      "metadata": {
        "id": "MxaBJ1-wn3yv",
        "colab_type": "text"
      },
      "source": [
        "###Checking the imbalance"
      ]
    },
    {
      "cell_type": "markdown",
      "metadata": {
        "id": "uedETosAn6nH",
        "colab_type": "text"
      },
      "source": [
        "###Bar Graph for distribution"
      ]
    },
    {
      "cell_type": "markdown",
      "metadata": {
        "id": "0dwYsiRNn9zf",
        "colab_type": "text"
      },
      "source": [
        "The distributions shows how skewed these features are. "
      ]
    },
    {
      "cell_type": "code",
      "metadata": {
        "id": "VBvHMIVMn3Nf",
        "colab_type": "code",
        "outputId": "4ab26a3a-b0b7-4dc1-967e-ef7ef09b4e6e",
        "colab": {
          "base_uri": "https://localhost:8080/",
          "height": 330
        }
      },
      "source": [
        "plt.title('No Show for Appointment \\n (0: No Showed || 1: Showed up)', fontsize=14)\n",
        "sns.countplot(\"No-show\",data=df)"
      ],
      "execution_count": 17,
      "outputs": [
        {
          "output_type": "execute_result",
          "data": {
            "text/plain": [
              "<matplotlib.axes._subplots.AxesSubplot at 0x7f644fe17438>"
            ]
          },
          "metadata": {
            "tags": []
          },
          "execution_count": 17
        },
        {
          "output_type": "display_data",
          "data": {
            "image/png": "[encoded data removed]",
            "text/plain": [
              "<Figure size 432x288 with 1 Axes>"
            ]
          },
          "metadata": {
            "tags": [],
            "needs_background": "light"
          }
        }
      ]
    },
    {
      "cell_type": "markdown",
      "metadata": {
        "id": "kTBV2POIsZ3L",
        "colab_type": "text"
      },
      "source": [
        "###Inspection of Dataset"
      ]
    },
    {
      "cell_type": "code",
      "metadata": {
        "id": "oJwmDekAoA7X",
        "colab_type": "code",
        "outputId": "f6260dc6-61ab-49d0-f9ab-9819f4031ad2",
        "colab": {
          "base_uri": "https://localhost:8080/",
          "height": 330
        }
      },
      "source": [
        "plt.title('Gender of patients \\n (0: Female || 1: Male)', fontsize=14)\n",
        "sns.countplot(\"Gender\",data=df)"
      ],
      "execution_count": 18,
      "outputs": [
        {
          "output_type": "execute_result",
          "data": {
            "text/plain": [
              "<matplotlib.axes._subplots.AxesSubplot at 0x7f644f4a0630>"
            ]
          },
          "metadata": {
            "tags": []
          },
          "execution_count": 18
        },
        {
          "output_type": "display_data",
          "data": {
            "image/png": "[encoded data removed]",
            "text/plain": [
              "<Figure size 432x288 with 1 Axes>"
            ]
          },
          "metadata": {
            "tags": [],
            "needs_background": "light"
          }
        }
      ]
    },
    {
      "cell_type": "code",
      "metadata": {
        "id": "UK848ullsd-r",
        "colab_type": "code",
        "outputId": "4c0c1010-b307-4085-8006-cc09e1bcda07",
        "colab": {
          "base_uri": "https://localhost:8080/",
          "height": 336
        }
      },
      "source": [
        "#Gender No Show relationship\n",
        "gendernoshow=df.groupby('Gender').sum()['No-show']\n",
        "\n",
        "gendernoshow.plot.pie(figsize=(5,5),title='Gender distribution on NoShow 0:Female||1:Male')"
      ],
      "execution_count": 19,
      "outputs": [
        {
          "output_type": "execute_result",
          "data": {
            "text/plain": [
              "<matplotlib.axes._subplots.AxesSubplot at 0x7f644f35ee10>"
            ]
          },
          "metadata": {
            "tags": []
          },
          "execution_count": 19
        },
        {
          "output_type": "display_data",
          "data": {
            "image/png": "[encoded data removed]",
            "text/plain": [
              "<Figure size 360x360 with 1 Axes>"
            ]
          },
          "metadata": {
            "tags": []
          }
        }
      ]
    },
    {
      "cell_type": "code",
      "metadata": {
        "id": "MA3mP6cMsq5r",
        "colab_type": "code",
        "outputId": "bd4a5837-9489-48c1-c854-e39853d78472",
        "colab": {
          "base_uri": "https://localhost:8080/",
          "height": 331
        }
      },
      "source": [
        "plt.title('Sms_Recieved \\n (0: No || 1: Yes)', fontsize=14)\n",
        "sns.countplot(\"SMS_received\",data=df)"
      ],
      "execution_count": 20,
      "outputs": [
        {
          "output_type": "execute_result",
          "data": {
            "text/plain": [
              "<matplotlib.axes._subplots.AxesSubplot at 0x7f644f1d0cf8>"
            ]
          },
          "metadata": {
            "tags": []
          },
          "execution_count": 20
        },
        {
          "output_type": "display_data",
          "data": {
            "image/png": "[encoded data removed]",
            "text/plain": [
              "<Figure size 432x288 with 1 Axes>"
            ]
          },
          "metadata": {
            "tags": [],
            "needs_background": "light"
          }
        }
      ]
    },
    {
      "cell_type": "code",
      "metadata": {
        "id": "ZJ5gaVY0svrC",
        "colab_type": "code",
        "outputId": "89bb32ac-1561-42f6-9b78-b46c54a86ed4",
        "colab": {
          "base_uri": "https://localhost:8080/",
          "height": 404
        }
      },
      "source": [
        "#SMS No Show ratio\n",
        "smsnoshow=df.groupby('SMS_received').sum()['No-show']\n",
        "print(smsnoshow)\n",
        "smsnoshow.plot.pie(figsize=(5,5),title='SMS received distribution on NoShow')"
      ],
      "execution_count": 21,
      "outputs": [
        {
          "output_type": "stream",
          "text": [
            "SMS_received\n",
            "0    12503\n",
            "1     9775\n",
            "Name: No-show, dtype: int64\n"
          ],
          "name": "stdout"
        },
        {
          "output_type": "execute_result",
          "data": {
            "text/plain": [
              "<matplotlib.axes._subplots.AxesSubplot at 0x7f644f1e5d30>"
            ]
          },
          "metadata": {
            "tags": []
          },
          "execution_count": 21
        },
        {
          "output_type": "display_data",
          "data": {
            "image/png": "[encoded data removed]",
            "text/plain": [
              "<Figure size 360x360 with 1 Axes>"
            ]
          },
          "metadata": {
            "tags": []
          }
        }
      ]
    },
    {
      "cell_type": "code",
      "metadata": {
        "id": "ZumYB_o5s13y",
        "colab_type": "code",
        "outputId": "5a1d88f8-989c-4d9c-c199-094ba3e5fd2d",
        "colab": {
          "base_uri": "https://localhost:8080/",
          "height": 869
        }
      },
      "source": [
        "agenoshow=df.groupby('Age').sum()['No-show']\n",
        "\n",
        "print(agenoshow)\n",
        "\n",
        "agenoshow.plot(kind='bar',figsize=(20,10),title='No-Show of patients age')"
      ],
      "execution_count": 22,
      "outputs": [
        {
          "output_type": "stream",
          "text": [
            "Age\n",
            "0      639\n",
            "1      415\n",
            "2      252\n",
            "3      277\n",
            "4      282\n",
            "      ... \n",
            "98       1\n",
            "99       0\n",
            "100      0\n",
            "102      0\n",
            "115      3\n",
            "Name: No-show, Length: 103, dtype: int64\n"
          ],
          "name": "stdout"
        },
        {
          "output_type": "execute_result",
          "data": {
            "text/plain": [
              "<matplotlib.axes._subplots.AxesSubplot at 0x7f644f2bc940>"
            ]
          },
          "metadata": {
            "tags": []
          },
          "execution_count": 22
        },
        {
          "output_type": "display_data",
          "data": {
            "image/png": "[encoded data removed]",
            "text/plain": [
              "<Figure size 1440x720 with 1 Axes>"
            ]
          },
          "metadata": {
            "tags": [],
            "needs_background": "light"
          }
        }
      ]
    },
    {
      "cell_type": "code",
      "metadata": {
        "id": "Xc9J_1-2tD7j",
        "colab_type": "code",
        "outputId": "ad193176-7117-4c6c-e628-a349ec10656c",
        "colab": {
          "base_uri": "https://localhost:8080/",
          "height": 590
        }
      },
      "source": [
        "neighbournoshow=df.groupby('Neighbourhood').sum()['No-show'].sort_values(ascending=False) \n",
        "# number of no show patients in each hospital\n",
        "print(neighbournoshow)\n",
        "neighbournoshow.plot(kind='bar',figsize=(20,5),title='Number of patients no show in neighbourhood')"
      ],
      "execution_count": 23,
      "outputs": [
        {
          "output_type": "stream",
          "text": [
            "Neighbourhood\n",
            "38    1465\n",
            "43    1219\n",
            "36     921\n",
            "59     903\n",
            "10     701\n",
            "      ... \n",
            "31       3\n",
            "34       2\n",
            "32       2\n",
            "0        1\n",
            "51       0\n",
            "Name: No-show, Length: 81, dtype: int64\n"
          ],
          "name": "stdout"
        },
        {
          "output_type": "execute_result",
          "data": {
            "text/plain": [
              "<matplotlib.axes._subplots.AxesSubplot at 0x7f644efc1eb8>"
            ]
          },
          "metadata": {
            "tags": []
          },
          "execution_count": 23
        },
        {
          "output_type": "display_data",
          "data": {
            "image/png": "[encoded data removed]",
            "text/plain": [
              "<Figure size 1440x360 with 1 Axes>"
            ]
          },
          "metadata": {
            "tags": [],
            "needs_background": "light"
          }
        }
      ]
    },
    {
      "cell_type": "code",
      "metadata": {
        "id": "4EUxsc2itRA6",
        "colab_type": "code",
        "outputId": "18f5dbcf-d1ea-414b-eb03-f8795ba0bf9c",
        "colab": {
          "base_uri": "https://localhost:8080/",
          "height": 119
        }
      },
      "source": [
        "conditions=df.groupby('No-show')['Hipertension','Diabetes', 'Alcoholism','Handcap'].sum()\n",
        "print(conditions)"
      ],
      "execution_count": 24,
      "outputs": [
        {
          "output_type": "stream",
          "text": [
            "         Hipertension  Diabetes  Alcoholism  Handcap\n",
            "No-show                                             \n",
            "0               17968      6478        2677     1676\n",
            "1                3748      1422         675      366\n"
          ],
          "name": "stdout"
        },
        {
          "output_type": "stream",
          "text": [
            "/usr/local/lib/python3.6/dist-packages/ipykernel_launcher.py:1: FutureWarning: Indexing with multiple keys (implicitly converted to a tuple of keys) will be deprecated, use a list instead.\n",
            "  \"\"\"Entry point for launching an IPython kernel.\n"
          ],
          "name": "stderr"
        }
      ]
    },
    {
      "cell_type": "code",
      "metadata": {
        "id": "Ndyn9JGWtTwS",
        "colab_type": "code",
        "outputId": "b67060b1-0fac-4448-a247-bb2ab9cab03c",
        "colab": {
          "base_uri": "https://localhost:8080/",
          "height": 363
        }
      },
      "source": [
        "conditions.plot(kind='bar',figsize=(20,5),title='Relationship between no show and show with conditions')"
      ],
      "execution_count": 25,
      "outputs": [
        {
          "output_type": "execute_result",
          "data": {
            "text/plain": [
              "<matplotlib.axes._subplots.AxesSubplot at 0x7f644eee3320>"
            ]
          },
          "metadata": {
            "tags": []
          },
          "execution_count": 25
        },
        {
          "output_type": "display_data",
          "data": {
            "image/png": "[encoded data removed]",
            "text/plain": [
              "<Figure size 1440x360 with 1 Axes>"
            ]
          },
          "metadata": {
            "tags": [],
            "needs_background": "light"
          }
        }
      ]
    },
    {
      "cell_type": "markdown",
      "metadata": {
        "id": "h69mk1T6vxy9",
        "colab_type": "text"
      },
      "source": [
        "##2.To establish a baseline, perform cross-validation on your dataset using a decision tree and a random forest."
      ]
    },
    {
      "cell_type": "code",
      "metadata": {
        "id": "5Tm2NIIVz38V",
        "colab_type": "code",
        "colab": {}
      },
      "source": [
        "#Function to establish a baseline\n",
        "def baseline(model,x,y):\n",
        "  Acc_scores=cross_val_score(model,x,y,cv=10,scoring=make_scorer(accuracy_score)) #calculates accuracy \n",
        "  Pre_scores=cross_val_score(model,x,y,cv=10,scoring=make_scorer(precision_score)) #calculates precision\n",
        "  Rec_scores=cross_val_score(model,x,y,cv=10,scoring=make_scorer(recall_score)) #calculates Recall\n",
        "  F1_scores=cross_val_score(model,x,y,cv=10,scoring=make_scorer(f1_score)) #calculates F1\n",
        "  print(\"Accuracy:\", Acc_scores)\n",
        "  print(\"Precision:\", Pre_scores)\n",
        "  print(\"Recall:\", Rec_scores)\n",
        "  print(\"F1 Score:\", F1_scores)\n",
        "  #Averages of the scores printed out\n",
        "  print(\"Average Accuracy: %0.2f (+/- %0.2f)\" % (Acc_scores.mean(), Acc_scores.std() * 2)) \n",
        "  print(\"Average Precision: %0.2f (+/- %0.2f)\" % (Pre_scores.mean(), Pre_scores.std() * 2))\n",
        "  print(\"Average Recall: %0.2f (+/- %0.2f)\" % (Rec_scores.mean(), Rec_scores.std() * 2))\n",
        "  print(\"Average F1 Score: %0.2f (+/- %0.2f)\" % (F1_scores.mean(), F1_scores.std() * 2))\n"
      ],
      "execution_count": 0,
      "outputs": []
    },
    {
      "cell_type": "code",
      "metadata": {
        "id": "8xHsI_6SjWv0",
        "colab_type": "code",
        "colab": {}
      },
      "source": [
        "x = df[df.columns[:11]] ##Predictors\n",
        "\n",
        "y=df['No-show'] ## Target variable"
      ],
      "execution_count": 0,
      "outputs": []
    },
    {
      "cell_type": "code",
      "metadata": {
        "id": "StNBixWujPx_",
        "colab_type": "code",
        "outputId": "57192f9a-3fdb-4d04-b557-e6094636f41a",
        "colab": {
          "base_uri": "https://localhost:8080/",
          "height": 221
        }
      },
      "source": [
        "#Using the Decision Tree to perform cross validation\n",
        "decclf = DecisionTreeClassifier(random_state=0)\n",
        "baseline(decclf,x,y)"
      ],
      "execution_count": 39,
      "outputs": [
        {
          "output_type": "stream",
          "text": [
            "Accuracy: [0.66165141 0.69192423 0.67932566 0.68440134 0.67343424 0.65911357\n",
            " 0.68485453 0.68718274 0.72180928 0.71836476]\n",
            "Precision: [0.23287185 0.25634623 0.24513619 0.25276025 0.24337439 0.23264737\n",
            " 0.22476862 0.25401929 0.27795359 0.27449974]\n",
            "Recall: [0.29443447 0.27648115 0.28276481 0.28770197 0.29263914 0.29937163\n",
            " 0.22890485 0.28378985 0.23664122 0.24012567]\n",
            "F1 Score: [0.26005946 0.26603325 0.26260942 0.2691016  0.26574282 0.26182532\n",
            " 0.22681788 0.26808059 0.2556391  0.25616471]\n",
            "Average Accuracy: 0.69 (+/- 0.04)\n",
            "Average Precision: 0.25 (+/- 0.03)\n",
            "Average Recall: 0.27 (+/- 0.05)\n",
            "Average F1 Score: 0.26 (+/- 0.02)\n"
          ],
          "name": "stdout"
        }
      ]
    },
    {
      "cell_type": "code",
      "metadata": {
        "id": "ph2FPxW1n3Vm",
        "colab_type": "code",
        "outputId": "17bb5fa4-a06b-4e6e-d3d0-45120e0774c9",
        "colab": {
          "base_uri": "https://localhost:8080/",
          "height": 221
        }
      },
      "source": [
        "#Performing random forest classifier cross validation \n",
        "RFC=RandomForestClassifier()\n",
        "baseline(RFC,x,y)"
      ],
      "execution_count": 40,
      "outputs": [
        {
          "output_type": "stream",
          "text": [
            "Accuracy: [0.77159431 0.78664008 0.77676063 0.78165503 0.77730445 0.75799873\n",
            " 0.78210822 0.78861494 0.79595722 0.79205946]\n",
            "Precision: [0.31891224 0.39409722 0.35961272 0.35       0.35502959 0.30588235\n",
            " 0.32924335 0.3580786  0.42153846 0.41522491]\n",
            "Recall: [0.11624776 0.10098743 0.11490126 0.09021544 0.12791741 0.1508079\n",
            " 0.07136445 0.07723395 0.0610687  0.05834829]\n",
            "F1 Score: [0.1638796  0.15798796 0.17899358 0.15221987 0.19480519 0.1934895\n",
            " 0.12052593 0.12223472 0.10232192 0.09686383]\n",
            "Average Accuracy: 0.78 (+/- 0.02)\n",
            "Average Precision: 0.36 (+/- 0.07)\n",
            "Average Recall: 0.10 (+/- 0.06)\n",
            "Average F1 Score: 0.15 (+/- 0.07)\n"
          ],
          "name": "stdout"
        }
      ]
    },
    {
      "cell_type": "markdown",
      "metadata": {
        "id": "t_3J1wQWoE2N",
        "colab_type": "text"
      },
      "source": [
        "##3. Partition each of the datasets into 10 bins, keeping the imbalance ratio from the original dataset using stratified cross-validation "
      ]
    },
    {
      "cell_type": "markdown",
      "metadata": {
        "id": "FhJSibm2oIe-",
        "colab_type": "text"
      },
      "source": [
        "###Performing Stratified CV"
      ]
    },
    {
      "cell_type": "code",
      "metadata": {
        "id": "igYSHJ35oF0e",
        "colab_type": "code",
        "outputId": "f49eba8f-47d7-4176-a70a-0422b956515e",
        "colab": {
          "base_uri": "https://localhost:8080/",
          "height": 187
        }
      },
      "source": [
        "skf = StratifiedKFold(n_splits=10,shuffle=False,random_state=None)\n",
        "\n",
        "#enumerate the splits and summerise the distributions\n",
        "for train_index, test_index in skf.split(x, y):\n",
        "  #selects rows\n",
        "  xtrain, xtest = x.iloc[train_index], x.iloc[test_index]\n",
        "  ytrain, ytest = y.iloc[train_index], y.iloc[test_index]\n",
        "  #summarising the train and test composition\n",
        "  train_0, train_1 = len(ytrain[ytrain==0]), len(ytrain[ytrain==1])\n",
        "  test_0, test_1 = len(ytest[ytest==0]), len(ytest[ytest==1])\n",
        "  print('>Train: 0=%d, 1=%d, Test: 0=%d, 1=%d' % (train_0, train_1, test_0, test_1))\n"
      ],
      "execution_count": 32,
      "outputs": [
        {
          "output_type": "stream",
          "text": [
            ">Train: 0=79244, 1=20050, Test: 0=8805, 1=2228\n",
            ">Train: 0=79244, 1=20050, Test: 0=8805, 1=2228\n",
            ">Train: 0=79244, 1=20050, Test: 0=8805, 1=2228\n",
            ">Train: 0=79244, 1=20050, Test: 0=8805, 1=2228\n",
            ">Train: 0=79244, 1=20050, Test: 0=8805, 1=2228\n",
            ">Train: 0=79244, 1=20050, Test: 0=8805, 1=2228\n",
            ">Train: 0=79244, 1=20050, Test: 0=8805, 1=2228\n",
            ">Train: 0=79244, 1=20051, Test: 0=8805, 1=2227\n",
            ">Train: 0=79244, 1=20051, Test: 0=8805, 1=2227\n",
            ">Train: 0=79245, 1=20050, Test: 0=8804, 1=2228\n"
          ],
          "name": "stdout"
        }
      ]
    },
    {
      "cell_type": "markdown",
      "metadata": {
        "id": "MrOYhbBfoMlA",
        "colab_type": "text"
      },
      "source": [
        "###Checking Imbalance Ratio and Graph"
      ]
    },
    {
      "cell_type": "markdown",
      "metadata": {
        "id": "uozOzXVhoPFe",
        "colab_type": "text"
      },
      "source": [
        "####Training Data"
      ]
    },
    {
      "cell_type": "code",
      "metadata": {
        "id": "xENhXAEcoSMW",
        "colab_type": "code",
        "outputId": "360fb80f-7b88-4d20-f281-cc40cef478e9",
        "colab": {
          "base_uri": "https://localhost:8080/",
          "height": 364
        }
      },
      "source": [
        "recession= len(ytrain[ytrain==1])\n",
        "no_recession=len(ytrain[ytrain==0])\n",
        "\n",
        "percentofrecession= recession/(recession+no_recession)\n",
        "percentofnorecession= no_recession/(recession+no_recession)\n",
        "\n",
        "print(\"Percentage of Recession is\", percentofrecession*100)\n",
        "print(\"Percentage of No Recession is\", percentofnorecession*100)\n",
        "\n",
        "plt.title('GrowthBucket Distribution \\n (0: No_Recession || 1: Recession)', fontsize=14)\n",
        "sns.countplot(ytrain,data=df)"
      ],
      "execution_count": 33,
      "outputs": [
        {
          "output_type": "stream",
          "text": [
            "Percentage of Recession is 20.19235611057959\n",
            "Percentage of No Recession is 79.8076438894204\n"
          ],
          "name": "stdout"
        },
        {
          "output_type": "execute_result",
          "data": {
            "text/plain": [
              "<matplotlib.axes._subplots.AxesSubplot at 0x7f644b577c18>"
            ]
          },
          "metadata": {
            "tags": []
          },
          "execution_count": 33
        },
        {
          "output_type": "display_data",
          "data": {
            "image/png": "[encoded data removed]",
            "text/plain": [
              "<Figure size 432x288 with 1 Axes>"
            ]
          },
          "metadata": {
            "tags": [],
            "needs_background": "light"
          }
        }
      ]
    },
    {
      "cell_type": "markdown",
      "metadata": {
        "id": "OjCC2taioRuX",
        "colab_type": "text"
      },
      "source": [
        "####Test Data"
      ]
    },
    {
      "cell_type": "code",
      "metadata": {
        "id": "RTzi8oC_oXYW",
        "colab_type": "code",
        "outputId": "cf2c803c-99a3-4127-febd-285f1ec9d064",
        "colab": {
          "base_uri": "https://localhost:8080/",
          "height": 364
        }
      },
      "source": [
        "recession= len(ytest[ytest==1])\n",
        "no_recession=len(ytest[ytest==0])\n",
        "\n",
        "percentofrecession= recession/(recession+no_recession)\n",
        "percentofnorecession= no_recession/(recession+no_recession)\n",
        "\n",
        "print(\"Percentage of Recession is\", percentofrecession*100)\n",
        "print(\"Percentage of No Recession is\", percentofnorecession*100)\n",
        "\n",
        "plt.title('GrowthBucket Distribution \\n (0: No_Recession || 1: Recession)', fontsize=14)\n",
        "sns.countplot(ytest,data=df)"
      ],
      "execution_count": 34,
      "outputs": [
        {
          "output_type": "stream",
          "text": [
            "Percentage of Recession is 20.195794053662077\n",
            "Percentage of No Recession is 79.80420594633793\n"
          ],
          "name": "stdout"
        },
        {
          "output_type": "execute_result",
          "data": {
            "text/plain": [
              "<matplotlib.axes._subplots.AxesSubplot at 0x7f644b271f60>"
            ]
          },
          "metadata": {
            "tags": []
          },
          "execution_count": 34
        },
        {
          "output_type": "display_data",
          "data": {
            "image/png": "[encoded data removed]",
            "text/plain": [
              "<Figure size 432x288 with 1 Axes>"
            ]
          },
          "metadata": {
            "tags": [],
            "needs_background": "light"
          }
        }
      ]
    },
    {
      "cell_type": "markdown",
      "metadata": {
        "id": "pr_F3YSPocl9",
        "colab_type": "text"
      },
      "source": [
        "Both sets of training and test data have similar/same unbalanced ratio. Therefore, SKF has worked. Step has been completed."
      ]
    },
    {
      "cell_type": "markdown",
      "metadata": {
        "id": "GzlZJQ7kHrar",
        "colab_type": "text"
      },
      "source": [
        "##Algorithm"
      ]
    },
    {
      "cell_type": "code",
      "metadata": {
        "id": "AAcmoviWHqhx",
        "colab_type": "code",
        "colab": {}
      },
      "source": [
        ""
      ],
      "execution_count": 0,
      "outputs": []
    }
  ]
}